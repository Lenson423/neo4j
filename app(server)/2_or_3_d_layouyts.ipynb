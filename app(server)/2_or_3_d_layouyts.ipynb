{
 "cells": [
  {
   "metadata": {},
   "cell_type": "code",
   "outputs": [],
   "execution_count": null,
   "source": [
    "import json\n",
    "import pandas as pd\n",
    "from graph_tool.all import *\n",
    "from collections import defaultdict"
   ],
   "id": "69e7f84ab943ff21"
  },
  {
   "metadata": {},
   "cell_type": "code",
   "source": [
    "with open(\"static/graph/my/092de6601f26128b3e47.json\", \"r\") as f: #file with result of server work\n",
    "    vertex_data = json.load(f)\n",
    "\n",
    "edges_df = pd.read_csv(\"graph/all_edges.csv\")\n",
    "idmap_df = pd.read_csv(\"graph/id_to_node_id.csv\")"
   ],
   "id": "4df5520a890f3bda",
   "outputs": [],
   "execution_count": null
  },
  {
   "metadata": {},
   "cell_type": "code",
   "source": [
    "uid_to_nid = dict(zip(idmap_df[\"user_id_1\"], idmap_df[\"node_id\"]))\n",
    "uid_to_nid"
   ],
   "id": "c26ea6ad5cb19839",
   "outputs": [],
   "execution_count": null
  },
  {
   "metadata": {},
   "cell_type": "code",
   "source": [
    "g = Graph(directed=False)\n",
    "node_map = {}\n",
    "v_user_id = g.new_vertex_property(\"long\")\n",
    "v_community = g.new_vertex_property(\"int\")"
   ],
   "id": "1a921c538011be8d",
   "outputs": [],
   "execution_count": null
  },
  {
   "metadata": {},
   "cell_type": "code",
   "source": [
    "v_screen_name = g.new_vertex_property(\"string\")\n",
    "v_score = g.new_vertex_property(\"double\")"
   ],
   "id": "c25722cb78fbf0de",
   "outputs": [],
   "execution_count": null
  },
  {
   "metadata": {},
   "cell_type": "code",
   "source": [
    "for vtx in vertex_data:\n",
    "    uid = vtx[\"user_id\"]\n",
    "    name = vtx[\"screen_name\"]\n",
    "    if uid not in uid_to_nid:\n",
    "        continue\n",
    "    nid = uid_to_nid[uid]\n",
    "    if nid in node_map:\n",
    "        continue\n",
    "    v = g.add_vertex()\n",
    "    node_map[nid] = v\n",
    "    v_user_id[v] = uid\n",
    "    v_screen_name[v] = name\n",
    "    v_score[v] = vtx[\"score\"]\n",
    "    comm = vtx.get(\"community\")\n",
    "    v_community[v] = int(comm) if comm is not None else -1\n"
   ],
   "id": "74b2e4203325852",
   "outputs": [],
   "execution_count": null
  },
  {
   "metadata": {},
   "cell_type": "code",
   "source": [
    "for _, row in edges_df.iterrows():\n",
    "    src = int(row[\"src\"])\n",
    "    dst = int(row[\"dst\"])\n",
    "    if src in node_map and dst in node_map:\n",
    "        g.add_edge(node_map[src], node_map[dst])\n",
    "\n",
    "g.vertex_properties[\"user_id\"] = v_user_id\n",
    "g.vertex_properties[\"community\"] = v_community\n",
    "g.vertex_properties[\"screen_name\"] = v_screen_name\n",
    "g.vertex_properties[\"score\"] = v_score"
   ],
   "id": "13e95ca55befc79d",
   "outputs": [],
   "execution_count": null
  },
  {
   "metadata": {},
   "cell_type": "code",
   "source": [
    "cluster_graph = Graph(directed=False)\n",
    "cluster_map = {}\n",
    "for v in g.vertices():\n",
    "    c = v_community[v]\n",
    "    if c not in cluster_map:\n",
    "        cluster_map[c] = cluster_graph.add_vertex()"
   ],
   "id": "ee5bbbe6c7f8ec9a",
   "outputs": [],
   "execution_count": null
  },
  {
   "metadata": {},
   "cell_type": "code",
   "source": [
    "ce_weights = cluster_graph.new_edge_property(\"int\")\n",
    "edge_count = defaultdict(int)\n",
    "\n",
    "for e in g.edges():\n",
    "    c1 = v_community[e.source()]\n",
    "    c2 = v_community[e.target()]\n",
    "    if c1 != c2:\n",
    "        key = tuple(sorted((c1, c2)))\n",
    "        edge_count[key] += 1\n",
    "\n",
    "for (c1, c2), w in edge_count.items():\n",
    "    e = cluster_graph.add_edge(cluster_map[c1], cluster_map[c2])\n",
    "    ce_weights[e] = w"
   ],
   "id": "662b1b5018e2b249",
   "outputs": [],
   "execution_count": null
  },
  {
   "metadata": {},
   "cell_type": "code",
   "source": [
    "from math import log, log1p\n",
    "\n",
    "norm_weights = cluster_graph.new_edge_property(\"double\")\n",
    "max_w = max(ce_weights.a)\n",
    "for e in cluster_graph.edges():\n",
    "    norm_weights[e] = log1p(ce_weights[e] / max_w)\n",
    "\n",
    "pos = random_layout(cluster_graph, dim=3)\n",
    "#pos = arf_layout(cluster_graph, weight=norm_weights, max_iter=500)\n",
    "#pos = fruchterman_reingold_layout(cluster_graph, weight=ce_weights, n_iter=200, circular=True)\n",
    "\n",
    "e_pen_width = cluster_graph.new_edge_property(\"double\")\n",
    "for e in cluster_graph.edges():\n",
    "    e_pen_width[e] = norm_weights[e]\n",
    "\n",
    "graph_draw(\n",
    "    cluster_graph,\n",
    "    pos=pos,\n",
    "    edge_pen_width=e_pen_width,\n",
    "    vertex_text=cluster_graph.vertex_index,\n",
    "    output_size=(1000, 1000)\n",
    ")\n"
   ],
   "id": "a155f71dbdb55453",
   "outputs": [],
   "execution_count": null
  },
  {
   "metadata": {},
   "cell_type": "code",
   "source": [
    "def draw_cluster(cluster_id):\n",
    "    verts = [v for v in g.vertices() if v_community[v] == cluster_id]\n",
    "    if not verts:\n",
    "        print(f\"Кластер {cluster_id} пуст\")\n",
    "        return\n",
    "    sub = Graph(directed=False)\n",
    "    vmap = {}\n",
    "    for v in verts:\n",
    "        vmap[v] = sub.add_vertex()\n",
    "    for v in verts:\n",
    "        for e in v.out_edges():\n",
    "            u = e.target()\n",
    "            if v_community[u] == cluster_id:\n",
    "                sub.add_edge(vmap[v], vmap[u])\n",
    "    pos = random_layout(sub, dim=3)\n",
    "   # pos = arf_layout(sub, max_iter=1, dim=3)\n",
    "    #pos = fruchterman_reingold_layout(sub, n_iter=200, circular=True)\n",
    "    # pos = sfdp_layout(sub)\n",
    "    graph_draw(sub, pos=pos, output_size=(1600, 1600))"
   ],
   "id": "63d421da65366595",
   "outputs": [],
   "execution_count": null
  },
  {
   "metadata": {},
   "cell_type": "code",
   "source": "draw_cluster(5)",
   "id": "358c342e970eb779",
   "outputs": [],
   "execution_count": null
  },
  {
   "metadata": {},
   "cell_type": "code",
   "source": [
    "import json\n",
    "import os\n",
    "\n",
    "os.makedirs(\"tmp\", exist_ok=True)\n",
    "\n",
    "cluster_pos = {int(v): [float(pos[v][0]), float(pos[v][1]), float(pos[v][2])] for v in cluster_graph.vertices()}\n",
    "with open(\"tmp/cluster_positions.json\", \"w\") as f:\n",
    "    json.dump(cluster_pos, f)\n",
    "\n",
    "cluster_edges = [\n",
    "    {\"source\": int(e.source()), \"target\": int(e.target()), \"weight\": float(ce_weights[e])}\n",
    "    for e in cluster_graph.edges()\n",
    "]\n",
    "with open(\"tmp/cluster_edges.json\", \"w\") as f:\n",
    "    json.dump(cluster_edges, f)\n"
   ],
   "id": "b15e85e9f7a7bd81",
   "outputs": [],
   "execution_count": null
  },
  {
   "metadata": {},
   "cell_type": "code",
   "source": [
    "from tqdm import tqdm\n",
    "\n",
    "\n",
    "def export_cluster(cluster_id):\n",
    "    verts = [v for v in g.vertices() if v_community[v] == cluster_id]\n",
    "    if not verts:\n",
    "        return\n",
    "\n",
    "    sub = Graph(directed=False)\n",
    "    vmap = {}\n",
    "    names = g.new_vertex_property(\"string\")\n",
    "    scores = g.new_vertex_property(\"double\")\n",
    "    communities = g.new_vertex_property(\"int\")\n",
    "\n",
    "    for v in verts:\n",
    "        vmap[v] = sub.add_vertex()\n",
    "        names[vmap[v]] = str(v_screen_name[v])\n",
    "        scores[vmap[v]] = str(v_score[v])\n",
    "        communities[vmap[v]] = str(v_community[v])\n",
    "\n",
    "    edge_list = []\n",
    "    for v in verts:\n",
    "        for e in v.out_edges():\n",
    "            u = e.target()\n",
    "            if v_community[u] == cluster_id:\n",
    "                sub.add_edge(vmap[v], vmap[u])\n",
    "                edge_list.append((int(vmap[v]), int(vmap[u])))\n",
    "\n",
    "    pos = random_layout(sub, dim=3)\n",
    "    # pos = fruchterman_reingold_layout(sub, n_iter=200, circular=True)\n",
    "    # pos = sfdp_layout(sub)\n",
    "    node_data = [\n",
    "        {\n",
    "            \"id\": int(v),\n",
    "            \"name\": names[v],\n",
    "            \"x\": float(pos[v][0]),\n",
    "            \"y\": float(pos[v][1]),\n",
    "            \"z\": float(pos[v][2]),\n",
    "            \"score\": scores[v],\n",
    "            \"community\": communities[v],\n",
    "        }\n",
    "        for v in sub.vertices()\n",
    "    ]\n",
    "    edge_data = [{\"source\": s, \"target\": t} for s, t in edge_list]\n",
    "\n",
    "    with open(f\"tmp/cluster_{cluster_id}_nodes.json\", \"w\") as f:\n",
    "        json.dump(node_data, f)\n",
    "    with open(f\"tmp/cluster_{cluster_id}_edges.json\", \"w\") as f:\n",
    "        json.dump(edge_data, f)\n",
    "\n",
    "for i in tqdm(range(-1, 255)):\n",
    "    export_cluster(i)\n"
   ],
   "id": "553a66e9344dc5f9",
   "outputs": [],
   "execution_count": null
  },
  {
   "metadata": {},
   "cell_type": "code",
   "source": "",
   "id": "6f725afdbf03bba4",
   "outputs": [],
   "execution_count": null
  }
 ],
 "metadata": {
  "kernelspec": {
   "display_name": "Python 3",
   "language": "python",
   "name": "python3"
  },
  "language_info": {
   "codemirror_mode": {
    "name": "ipython",
    "version": 2
   },
   "file_extension": ".py",
   "mimetype": "text/x-python",
   "name": "python",
   "nbconvert_exporter": "python",
   "pygments_lexer": "ipython2",
   "version": "2.7.6"
  }
 },
 "nbformat": 4,
 "nbformat_minor": 5
}
