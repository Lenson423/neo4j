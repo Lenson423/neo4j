{
 "cells": [
  {
   "cell_type": "markdown",
   "metadata": {},
   "source": [
    "# Neo4j Twitter Trolls Tutorial\n",
    "\n",
    "**Goal**: This notebook aims to show how to use PyGraphistry to visualize data from [Neo4j](https://neo4j.com/developer/). We also show how to use [graph algorithms in Neo4j](https://neo4j.com/developer/graph-algorithms/) and use PyGraphistry to visualize the result of those algorithms.\n",
    "\n",
    "*Prerequesties:* \n",
    "* You'll need a Graphistry API key, which you can request [here](https://www.graphistry.com/api-request)\n",
    "* Neo4j. We'll be using [Neo4j Sandbox](https://neo4j.com/sandbox-v2/) (free hosted Neo4j instances pre-populated with data) for this tutorial. Specifically the \"Russian Twitter Trolls\" sandbox. You can create a Neo4j Sandbox instance [here](https://neo4j.com/sandbox-v2/)\n",
    "* Python requirements:\n",
    "  * [`neo4j-driver`](https://github.com/neo4j/neo4j-python-driver) - `pip install neo4j-driver`\n",
    "  * [`pygraphistry`](https://github.com/graphistry/pygraphistry/) - `pip install \"graphistry[all]\"` \n",
    "  "
   ]
  },
  {
   "cell_type": "markdown",
   "metadata": {},
   "source": [
    "## Outline\n",
    "\n",
    "* Connecting to Neo4j \n",
    "  * using neo4j-driver Python client\n",
    "  * query with Cypher\n",
    "* Visualizing data in Graphistry from Neo4j \n",
    "  * User-User mentions from Twitter data\n",
    "* Graph algorithms\n",
    "  * Enhancing our visualization with PageRank"
   ]
  },
  {
   "cell_type": "code",
   "metadata": {
    "collapsed": true,
    "ExecuteTime": {
     "end_time": "2025-04-29T18:26:52.545751Z",
     "start_time": "2025-04-29T18:26:52.186968Z"
    }
   },
   "source": [
    "# import required dependencies\n",
    "from neo4j import GraphDatabase, basic_auth\n",
    "from pandas import DataFrame\n",
    "import graphistry"
   ],
   "outputs": [],
   "execution_count": 1
  },
  {
   "cell_type": "code",
   "metadata": {
    "collapsed": true,
    "ExecuteTime": {
     "end_time": "2025-04-29T18:27:01.878530Z",
     "start_time": "2025-04-29T18:27:00.917093Z"
    }
   },
   "source": [
    "# To specify Graphistry account & server, use:\n",
    "import os\n",
    "\n",
    "AUTH_GRAPH = (os.getenv(\"GRAPH_NAME\"), os.getenv(\"GRAPH_PASSWORD\"))\n",
    "print(AUTH_GRAPH)\n",
    "graphistry.register(api=3, protocol='https', server='hub.graphistry.com',\n",
    "                    personal_key_id = AUTH_GRAPH[0],\n",
    "                    personal_key_secret=AUTH_GRAPH[1])\n",
    "\n",
    "# For more options, see https://github.com/graphistry/pygraphistry#configure"
   ],
   "outputs": [
    {
     "name": "stdout",
     "output_type": "stream",
     "text": [
      "('PFJACOZJFA', 'X6FY35Y46AZL9ASR')\n"
     ]
    }
   ],
   "execution_count": 3
  },
  {
   "cell_type": "markdown",
   "metadata": {},
   "source": [
    "## Connect To Neo4j\n",
    "\n",
    "If you haven't already, create an instance of the Russian Twitter Trolls sandbox on [Neo4j Sandbox.](https://neo4j.com/sandbox-v2/) We'll use the [Python driver for Neo4j](https://github.com/neo4j/neo4j-python-driver) to fetch data from Neo4j. To do this we'll need to instantiate a `Driver` object, passing in the credentials for our Neo4j instance. If using Neo4j Sandbox you can find the credentials for your Neo4j instance in the \"Details\" tab. Specifically we need the IP address, bolt port, username, and password. Bolt is the binary protocol used by the Neo4j drivers so a typical database URL string takes the form `bolt://<IP_ADDRESS>:<BOLT_PORT>`\n"
   ]
  },
  {
   "cell_type": "code",
   "metadata": {
    "collapsed": true,
    "ExecuteTime": {
     "end_time": "2025-04-29T18:26:56.720873Z",
     "start_time": "2025-04-29T18:26:56.712676Z"
    }
   },
   "source": [
    "import os\n",
    "from dotenv import load_dotenv\n",
    "\n",
    "# instantiate Neo4j driver instance\n",
    "# be sure to replace the connection string and password with your own\n",
    "load_dotenv()\n",
    "URI = os.getenv(\"URI\")\n",
    "AUTH = (os.getenv(\"AUTH_NAME\"), os.getenv(\"AUTH_PASSWORD\"))\n",
    "print(URI, AUTH)\n",
    "driver = GraphDatabase.driver(URI, auth=AUTH, max_connection_pool_size=20)"
   ],
   "outputs": [
    {
     "name": "stdout",
     "output_type": "stream",
     "text": [
      "bolt://54.89.172.229:7687 ('neo4j', 'iron_felix#1109')\n"
     ]
    }
   ],
   "execution_count": 2
  },
  {
   "cell_type": "markdown",
   "metadata": {},
   "source": [
    "Once we've instantiated our Driver, we can use `Session` objects to execute queries against Neo4j. Here we'll use `session.run()` to execute a [Cypher query](https://neo4j.com/developer/cypher-query-language/). Cypher is the query language for graphs that we use with Neo4j (you can think of Cypher as SQL for graphs)."
   ]
  },
  {
   "cell_type": "code",
   "metadata": {
    "ExecuteTime": {
     "end_time": "2025-04-29T17:55:54.282311Z",
     "start_time": "2025-04-29T17:55:54.113044Z"
    }
   },
   "source": [
    "# neo4j-driver hello world\n",
    "# execute a simple query to count the number of nodes in the database and print the result\n",
    "with driver.session() as session:\n",
    "    results = session.run(\"MATCH (a) RETURN COUNT(a) AS num\")\n",
    "print(results.da)"
   ],
   "outputs": [
    {
     "name": "stdout",
     "output_type": "stream",
     "text": [
      "<bound method Result.data of <neo4j._sync.work.result.Result object at 0x11a4e6d50>>\n"
     ]
    }
   ],
   "execution_count": 7
  },
  {
   "cell_type": "markdown",
   "metadata": {},
   "source": [
    "If we inspect the datamodel in Neo4j we can see that we have inormation about Tweets and specifically Users mentioned in tweets.\n",
    "\n",
    "\n",
    "Let's use Graphistry to visualize User-User Tweet mention interactions. We'll do this by querying Neo4j for all tweets that mention users."
   ]
  },
  {
   "cell_type": "markdown",
   "metadata": {},
   "source": [
    "## Using Graphistry With Neo4j\n",
    "\n",
    "Currently, PyGraphistry can work with data as a pandas DataFrame, NetworkX graph or IGraph graph object. In this section we'll show how to load data from Neo4j into PyGraphistry by converting results from the Python Neo4j driver into a pandas DataFrame.\n",
    "\n",
    "Our goal is to visualize User-User Tweet mention interactions. We'll create two pandas DataFrames, one representing our nodes (Users) and a second representing the relationships in our graph (mentions).\n",
    "\n",
    "Some users are known Troll accounts so we include a flag variable, `troll` to indicate when the user is a Troll. This will be used in our visualization to set the color of the known Troll accounts."
   ]
  },
  {
   "cell_type": "code",
   "metadata": {
    "ExecuteTime": {
     "end_time": "2025-04-29T18:27:08.399986Z",
     "start_time": "2025-04-29T18:27:06.709345Z"
    }
   },
   "source": [
    "# Create User DataFrame by querying Neo4j, converting the results into a pandas DataFrame\n",
    "with driver.session() as session:\n",
    "    results = session.run(\"\"\"\n",
    "    MATCH (u:User) \n",
    "    WITH u.screen_name AS screen_name, u.community as community\n",
    "    WHERE u.community IS NOT NULL AND u.followers_count > 50000\n",
    "    RETURN screen_name, community\"\"\")\n",
    "    users = DataFrame(results.data())\n",
    "# show the first 5 rows of the DataFrame\n",
    "users[:5]"
   ],
   "outputs": [
    {
     "data": {
      "text/plain": [
       "    screen_name  community\n",
       "0  TheFlowHorse          0\n",
       "1         CL207          0\n",
       "2    zoomerfied          0\n",
       "3      Pentosh1          0\n",
       "4     RunnerXBT          0"
      ],
      "text/html": [
       "<div>\n",
       "<style scoped>\n",
       "    .dataframe tbody tr th:only-of-type {\n",
       "        vertical-align: middle;\n",
       "    }\n",
       "\n",
       "    .dataframe tbody tr th {\n",
       "        vertical-align: top;\n",
       "    }\n",
       "\n",
       "    .dataframe thead th {\n",
       "        text-align: right;\n",
       "    }\n",
       "</style>\n",
       "<table border=\"1\" class=\"dataframe\">\n",
       "  <thead>\n",
       "    <tr style=\"text-align: right;\">\n",
       "      <th></th>\n",
       "      <th>screen_name</th>\n",
       "      <th>community</th>\n",
       "    </tr>\n",
       "  </thead>\n",
       "  <tbody>\n",
       "    <tr>\n",
       "      <th>0</th>\n",
       "      <td>TheFlowHorse</td>\n",
       "      <td>0</td>\n",
       "    </tr>\n",
       "    <tr>\n",
       "      <th>1</th>\n",
       "      <td>CL207</td>\n",
       "      <td>0</td>\n",
       "    </tr>\n",
       "    <tr>\n",
       "      <th>2</th>\n",
       "      <td>zoomerfied</td>\n",
       "      <td>0</td>\n",
       "    </tr>\n",
       "    <tr>\n",
       "      <th>3</th>\n",
       "      <td>Pentosh1</td>\n",
       "      <td>0</td>\n",
       "    </tr>\n",
       "    <tr>\n",
       "      <th>4</th>\n",
       "      <td>RunnerXBT</td>\n",
       "      <td>0</td>\n",
       "    </tr>\n",
       "  </tbody>\n",
       "</table>\n",
       "</div>"
      ]
     },
     "execution_count": 4,
     "metadata": {},
     "output_type": "execute_result"
    }
   ],
   "execution_count": 4
  },
  {
   "cell_type": "markdown",
   "metadata": {},
   "source": [
    "Next, we need some relationships to visualize. In this case we are interested in visualizing user interactions, specifically where users have mentioned users in Tweets."
   ]
  },
  {
   "cell_type": "code",
   "metadata": {
    "ExecuteTime": {
     "end_time": "2025-04-29T18:30:20.246181Z",
     "start_time": "2025-04-29T18:27:12.457064Z"
    }
   },
   "source": [
    "# Query for tweets mentioning a user and create a DataFrame adjacency list using screen_name\n",
    "# where u1 posted a tweet(s) that mentions u2\n",
    "# num is the number of time u1 mentioned u2 in the dataset\n",
    "with driver.session() as session:\n",
    "    results = session.run(\"\"\"\n",
    "        MATCH (u1:User)-[:FOLLOWING]->(u2:User)\n",
    "        WHERE u1.community IS NOT NULL AND u1.followers_count > 50000\n",
    "        AND u2.community IS NOT NULL AND u2.followers_count > 50000\n",
    "        RETURN u1.screen_name AS u1, u2.screen_name AS u2\n",
    "    \"\"\")\n",
    "    mentions  = DataFrame(results.data())\n",
    "mentions[:5]"
   ],
   "outputs": [
    {
     "data": {
      "text/plain": [
       "             u1              u2\n",
       "0  TheFlowHorse  donnelly_brent\n",
       "1  TheFlowHorse     LomahCrypto\n",
       "2  TheFlowHorse           cobie\n",
       "3  TheFlowHorse   BrianBrooksUS\n",
       "4  TheFlowHorse   TraderMercury"
      ],
      "text/html": [
       "<div>\n",
       "<style scoped>\n",
       "    .dataframe tbody tr th:only-of-type {\n",
       "        vertical-align: middle;\n",
       "    }\n",
       "\n",
       "    .dataframe tbody tr th {\n",
       "        vertical-align: top;\n",
       "    }\n",
       "\n",
       "    .dataframe thead th {\n",
       "        text-align: right;\n",
       "    }\n",
       "</style>\n",
       "<table border=\"1\" class=\"dataframe\">\n",
       "  <thead>\n",
       "    <tr style=\"text-align: right;\">\n",
       "      <th></th>\n",
       "      <th>u1</th>\n",
       "      <th>u2</th>\n",
       "    </tr>\n",
       "  </thead>\n",
       "  <tbody>\n",
       "    <tr>\n",
       "      <th>0</th>\n",
       "      <td>TheFlowHorse</td>\n",
       "      <td>donnelly_brent</td>\n",
       "    </tr>\n",
       "    <tr>\n",
       "      <th>1</th>\n",
       "      <td>TheFlowHorse</td>\n",
       "      <td>LomahCrypto</td>\n",
       "    </tr>\n",
       "    <tr>\n",
       "      <th>2</th>\n",
       "      <td>TheFlowHorse</td>\n",
       "      <td>cobie</td>\n",
       "    </tr>\n",
       "    <tr>\n",
       "      <th>3</th>\n",
       "      <td>TheFlowHorse</td>\n",
       "      <td>BrianBrooksUS</td>\n",
       "    </tr>\n",
       "    <tr>\n",
       "      <th>4</th>\n",
       "      <td>TheFlowHorse</td>\n",
       "      <td>TraderMercury</td>\n",
       "    </tr>\n",
       "  </tbody>\n",
       "</table>\n",
       "</div>"
      ]
     },
     "execution_count": 5,
     "metadata": {},
     "output_type": "execute_result"
    }
   ],
   "execution_count": 5
  },
  {
   "cell_type": "markdown",
   "metadata": {},
   "source": [
    "Now we can visualize this mentions network using Graphistry. We'll specify the nodes and relationships for our graph. We'll also use the `troll` property to color the known Troll nodes red, setting them apart from other users in the graph."
   ]
  },
  {
   "cell_type": "code",
   "metadata": {
    "ExecuteTime": {
     "end_time": "2025-04-29T18:40:04.869104Z",
     "start_time": "2025-04-29T18:39:57.224561Z"
    }
   },
   "source": [
    "viz = graphistry.bind(source=\"u1\", destination=\"u2\", node=\"screen_name\", point_color=\"community\").nodes(users).edges(mentions)\n",
    "viz.plot()"
   ],
   "outputs": [
    {
     "data": {
      "text/plain": [
       "<IPython.core.display.HTML object>"
      ],
      "text/html": [
       "\n",
       "            <iframe id=\"ecfcbceb-a278-47a8-8f6f-bcde4d44fff1\" src=\"https://hub.graphistry.com/graph/graph.html?dataset=952327c44f7949ea80d8f38d2421d0a2&type=arrow&viztoken=c218cd3a-acff-4afe-bbac-01eeb3654033&usertag=578d6eaa-pygraphistry-0.36.1&splashAfter=1745952019&info=true\"\n",
       "                    allowfullscreen=\"true\" webkitallowfullscreen=\"true\" mozallowfullscreen=\"true\"\n",
       "                    oallowfullscreen=\"true\" msallowfullscreen=\"true\"\n",
       "                    style=\"width:100%; height:500px; border: 1px solid #DDD; overflow: hidden\"\n",
       "                    \n",
       "            >\n",
       "            </iframe>\n",
       "        \n",
       "            <script>\n",
       "                try {\n",
       "                  $(\"#ecfcbceb-a278-47a8-8f6f-bcde4d44fff1\").bind('mousewheel', function(e) { e.preventDefault(); });\n",
       "                } catch (e) { console.error('exn catching scroll', e); }\n",
       "            </script>\n",
       "        "
      ]
     },
     "execution_count": 8,
     "metadata": {},
     "output_type": "execute_result"
    }
   ],
   "execution_count": 8
  },
  {
   "cell_type": "markdown",
   "metadata": {},
   "source": [
    "After running the above Python cell you should see an interactive Graphistry visualization like this:\n",
    "\n",
    "Known Troll user nodes are colored red, regular users colored blue. By default, the size of the nodes is proportional to the degree of the node (number of relationships). We'll see in the next section how we can use graph algorithms such as PageRank and visualize the results of those algorithms in Graphistry."
   ]
  },
  {
   "metadata": {
    "ExecuteTime": {
     "end_time": "2025-04-29T18:37:09.667279Z",
     "start_time": "2025-04-29T18:37:09.659626Z"
    }
   },
   "cell_type": "code",
   "source": [
    "from collections import Counter\n",
    "Counter(users.community)"
   ],
   "outputs": [
    {
     "data": {
      "text/plain": [
       "Counter({0: 2027, 1: 1560, 3: 626, 4: 492, 2: 361, 5: 5})"
      ]
     },
     "execution_count": 7,
     "metadata": {},
     "output_type": "execute_result"
    }
   ],
   "execution_count": 7
  },
  {
   "cell_type": "markdown",
   "metadata": {
    "collapsed": true
   },
   "source": [
    "## Graph Algorithms\n",
    "\n",
    "The above visualization shows us User-User Tweet mention interactions from the data. What if we wanted to answer the question \"Who is the most important user in this network?\". One way to answer that would be to look at the degree, or number of relationships, of each node. By default, PyGraphistry uses degree to style the size of the node, allowing us to determine importance of nodes at a glance. \n",
    "\n",
    "We can also use [graph algorithms](https://github.com/neo4j-contrib/neo4j-graph-algorithms) such as PageRank to determine importance in the network. In this section we show how to [run graph algorithms in Neo4j](https://neo4j.com/developer/graph-algorithms/) and use the results of these algorithms in our Graphistry visualization."
   ]
  },
  {
   "cell_type": "code",
   "metadata": {
    "collapsed": true,
    "ExecuteTime": {
     "end_time": "2025-04-29T18:43:10.309111Z",
     "start_time": "2025-04-29T18:43:09.479700Z"
    }
   },
   "source": [
    "# run PageRank on the projected mentions graph and update nodes by adding a pagerank property score\n",
    "with driver.session() as session:\n",
    "    session.run(\"\"\"\n",
    "        CALL algo.pageRank(\"MATCH (t:User) RETURN id(t) AS id\",\n",
    "         \"MATCH (u1:User)-[:FOLLOWING]->(u2:User)\n",
    "         RETURN id(u1) as source, id(u2) as target\", {graph:'cypher', write: true})\n",
    "     \"\"\")"
   ],
   "outputs": [
    {
     "ename": "ClientError",
     "evalue": "{code: Neo.ClientError.Procedure.ProcedureNotFound} {message: There is no procedure with the name `algo.pageRank` registered for this database instance. Please ensure you've spelled the procedure name correctly and that the procedure is properly deployed.}",
     "output_type": "error",
     "traceback": [
      "\u001B[31m---------------------------------------------------------------------------\u001B[39m",
      "\u001B[31mGqlError\u001B[39m                                  Traceback (most recent call last)",
      "\u001B[31mGqlError\u001B[39m: {gql_status: 42N08} {gql_status_description: error: syntax error or access rule violation - no such procedure. The procedure algo.pageRank() was not found. Verify that the spelling is correct.} {message: 42N08: The procedure algo.pageRank() was not found. Verify that the spelling is correct.} {diagnostic_record: {'_classification': 'CLIENT_ERROR', 'OPERATION': '', 'OPERATION_CODE': '0', 'CURRENT_SCHEMA': '/'}} {raw_classification: CLIENT_ERROR}",
      "\nThe above exception was the direct cause of the following exception:\n",
      "\u001B[31mClientError\u001B[39m                               Traceback (most recent call last)",
      "\u001B[36mCell\u001B[39m\u001B[36m \u001B[39m\u001B[32mIn[10]\u001B[39m\u001B[32m, line 3\u001B[39m\n\u001B[32m      1\u001B[39m \u001B[38;5;66;03m# run PageRank on the projected mentions graph and update nodes by adding a pagerank property score\u001B[39;00m\n\u001B[32m      2\u001B[39m \u001B[38;5;28;01mwith\u001B[39;00m driver.session() \u001B[38;5;28;01mas\u001B[39;00m session:\n\u001B[32m----> \u001B[39m\u001B[32m3\u001B[39m     \u001B[43msession\u001B[49m\u001B[43m.\u001B[49m\u001B[43mrun\u001B[49m\u001B[43m(\u001B[49m\u001B[33;43m\"\"\"\u001B[39;49m\n\u001B[32m      4\u001B[39m \u001B[33;43m        CALL algo.pageRank(\u001B[39;49m\u001B[33;43m\"\u001B[39;49m\u001B[33;43mMATCH (t:User) RETURN id(t) AS id\u001B[39;49m\u001B[33;43m\"\u001B[39;49m\u001B[33;43m,\u001B[39;49m\n\u001B[32m      5\u001B[39m \u001B[33;43m         \u001B[39;49m\u001B[33;43m\"\u001B[39;49m\u001B[33;43mMATCH (u1:User)-[:FOLLOWING]->(u2:User)\u001B[39;49m\n\u001B[32m      6\u001B[39m \u001B[33;43m         RETURN id(u1) as source, id(u2) as target\u001B[39;49m\u001B[33;43m\"\u001B[39;49m\u001B[33;43m, \u001B[39;49m\u001B[33;43m{\u001B[39;49m\u001B[33;43mgraph:\u001B[39;49m\u001B[33;43m'\u001B[39;49m\u001B[33;43mcypher\u001B[39;49m\u001B[33;43m'\u001B[39;49m\u001B[33;43m, write: true})\u001B[39;49m\n\u001B[32m      7\u001B[39m \u001B[33;43m     \u001B[39;49m\u001B[33;43m\"\"\"\u001B[39;49m\u001B[43m)\u001B[49m\n",
      "\u001B[36mFile \u001B[39m\u001B[32m~/PycharmProjects/neo4j/.venv/lib/python3.13/site-packages/neo4j/_sync/work/session.py:328\u001B[39m, in \u001B[36mSession.run\u001B[39m\u001B[34m(self, query, parameters, **kwargs)\u001B[39m\n\u001B[32m    326\u001B[39m bookmarks = \u001B[38;5;28mself\u001B[39m._get_bookmarks()\n\u001B[32m    327\u001B[39m parameters = \u001B[38;5;28mdict\u001B[39m(parameters \u001B[38;5;129;01mor\u001B[39;00m {}, **kwargs)\n\u001B[32m--> \u001B[39m\u001B[32m328\u001B[39m \u001B[38;5;28;43mself\u001B[39;49m\u001B[43m.\u001B[49m\u001B[43m_auto_result\u001B[49m\u001B[43m.\u001B[49m\u001B[43m_run\u001B[49m\u001B[43m(\u001B[49m\n\u001B[32m    329\u001B[39m \u001B[43m    \u001B[49m\u001B[43mquery\u001B[49m\u001B[43m,\u001B[49m\n\u001B[32m    330\u001B[39m \u001B[43m    \u001B[49m\u001B[43mparameters\u001B[49m\u001B[43m,\u001B[49m\n\u001B[32m    331\u001B[39m \u001B[43m    \u001B[49m\u001B[38;5;28;43mself\u001B[39;49m\u001B[43m.\u001B[49m\u001B[43m_config\u001B[49m\u001B[43m.\u001B[49m\u001B[43mdatabase\u001B[49m\u001B[43m,\u001B[49m\n\u001B[32m    332\u001B[39m \u001B[43m    \u001B[49m\u001B[38;5;28;43mself\u001B[39;49m\u001B[43m.\u001B[49m\u001B[43m_config\u001B[49m\u001B[43m.\u001B[49m\u001B[43mimpersonated_user\u001B[49m\u001B[43m,\u001B[49m\n\u001B[32m    333\u001B[39m \u001B[43m    \u001B[49m\u001B[38;5;28;43mself\u001B[39;49m\u001B[43m.\u001B[49m\u001B[43m_config\u001B[49m\u001B[43m.\u001B[49m\u001B[43mdefault_access_mode\u001B[49m\u001B[43m,\u001B[49m\n\u001B[32m    334\u001B[39m \u001B[43m    \u001B[49m\u001B[43mbookmarks\u001B[49m\u001B[43m,\u001B[49m\n\u001B[32m    335\u001B[39m \u001B[43m    \u001B[49m\u001B[38;5;28;43mself\u001B[39;49m\u001B[43m.\u001B[49m\u001B[43m_config\u001B[49m\u001B[43m.\u001B[49m\u001B[43mnotifications_min_severity\u001B[49m\u001B[43m,\u001B[49m\n\u001B[32m    336\u001B[39m \u001B[43m    \u001B[49m\u001B[38;5;28;43mself\u001B[39;49m\u001B[43m.\u001B[49m\u001B[43m_config\u001B[49m\u001B[43m.\u001B[49m\u001B[43mnotifications_disabled_classifications\u001B[49m\u001B[43m,\u001B[49m\n\u001B[32m    337\u001B[39m \u001B[43m\u001B[49m\u001B[43m)\u001B[49m\n\u001B[32m    339\u001B[39m \u001B[38;5;28;01mreturn\u001B[39;00m \u001B[38;5;28mself\u001B[39m._auto_result\n",
      "\u001B[36mFile \u001B[39m\u001B[32m~/PycharmProjects/neo4j/.venv/lib/python3.13/site-packages/neo4j/_sync/work/result.py:236\u001B[39m, in \u001B[36mResult._run\u001B[39m\u001B[34m(self, query, parameters, db, imp_user, access_mode, bookmarks, notifications_min_severity, notifications_disabled_classifications)\u001B[39m\n\u001B[32m    234\u001B[39m \u001B[38;5;28mself\u001B[39m._pull()\n\u001B[32m    235\u001B[39m \u001B[38;5;28mself\u001B[39m._connection.send_all()\n\u001B[32m--> \u001B[39m\u001B[32m236\u001B[39m \u001B[38;5;28;43mself\u001B[39;49m\u001B[43m.\u001B[49m\u001B[43m_attach\u001B[49m\u001B[43m(\u001B[49m\u001B[43m)\u001B[49m\n",
      "\u001B[36mFile \u001B[39m\u001B[32m~/PycharmProjects/neo4j/.venv/lib/python3.13/site-packages/neo4j/_sync/work/result.py:430\u001B[39m, in \u001B[36mResult._attach\u001B[39m\u001B[34m(self)\u001B[39m\n\u001B[32m    428\u001B[39m \u001B[38;5;28;01mif\u001B[39;00m \u001B[38;5;28mself\u001B[39m._exhausted \u001B[38;5;129;01mis\u001B[39;00m \u001B[38;5;28;01mFalse\u001B[39;00m:\n\u001B[32m    429\u001B[39m     \u001B[38;5;28;01mwhile\u001B[39;00m \u001B[38;5;28mself\u001B[39m._attached \u001B[38;5;129;01mis\u001B[39;00m \u001B[38;5;28;01mFalse\u001B[39;00m:\n\u001B[32m--> \u001B[39m\u001B[32m430\u001B[39m         \u001B[38;5;28;43mself\u001B[39;49m\u001B[43m.\u001B[49m\u001B[43m_connection\u001B[49m\u001B[43m.\u001B[49m\u001B[43mfetch_message\u001B[49m\u001B[43m(\u001B[49m\u001B[43m)\u001B[49m\n",
      "\u001B[36mFile \u001B[39m\u001B[32m~/PycharmProjects/neo4j/.venv/lib/python3.13/site-packages/neo4j/_sync/io/_common.py:184\u001B[39m, in \u001B[36mConnectionErrorHandler.__getattr__.<locals>.outer.<locals>.inner\u001B[39m\u001B[34m(*args, **kwargs)\u001B[39m\n\u001B[32m    182\u001B[39m \u001B[38;5;28;01mdef\u001B[39;00m\u001B[38;5;250m \u001B[39m\u001B[34minner\u001B[39m(*args, **kwargs):\n\u001B[32m    183\u001B[39m     \u001B[38;5;28;01mtry\u001B[39;00m:\n\u001B[32m--> \u001B[39m\u001B[32m184\u001B[39m         \u001B[43mfunc\u001B[49m\u001B[43m(\u001B[49m\u001B[43m*\u001B[49m\u001B[43margs\u001B[49m\u001B[43m,\u001B[49m\u001B[43m \u001B[49m\u001B[43m*\u001B[49m\u001B[43m*\u001B[49m\u001B[43mkwargs\u001B[49m\u001B[43m)\u001B[49m\n\u001B[32m    185\u001B[39m     \u001B[38;5;28;01mexcept\u001B[39;00m (Neo4jError, ServiceUnavailable, SessionExpired) \u001B[38;5;28;01mas\u001B[39;00m exc:\n\u001B[32m    186\u001B[39m         \u001B[38;5;28;01massert\u001B[39;00m \u001B[38;5;129;01mnot\u001B[39;00m asyncio.iscoroutinefunction(\u001B[38;5;28mself\u001B[39m.__on_error)\n",
      "\u001B[36mFile \u001B[39m\u001B[32m~/PycharmProjects/neo4j/.venv/lib/python3.13/site-packages/neo4j/_sync/io/_bolt.py:864\u001B[39m, in \u001B[36mBolt.fetch_message\u001B[39m\u001B[34m(self)\u001B[39m\n\u001B[32m    860\u001B[39m \u001B[38;5;66;03m# Receive exactly one message\u001B[39;00m\n\u001B[32m    861\u001B[39m tag, fields = \u001B[38;5;28mself\u001B[39m.inbox.pop(\n\u001B[32m    862\u001B[39m     hydration_hooks=\u001B[38;5;28mself\u001B[39m.responses[\u001B[32m0\u001B[39m].hydration_hooks\n\u001B[32m    863\u001B[39m )\n\u001B[32m--> \u001B[39m\u001B[32m864\u001B[39m res = \u001B[38;5;28;43mself\u001B[39;49m\u001B[43m.\u001B[49m\u001B[43m_process_message\u001B[49m\u001B[43m(\u001B[49m\u001B[43mtag\u001B[49m\u001B[43m,\u001B[49m\u001B[43m \u001B[49m\u001B[43mfields\u001B[49m\u001B[43m)\u001B[49m\n\u001B[32m    865\u001B[39m \u001B[38;5;28mself\u001B[39m.idle_since = monotonic()\n\u001B[32m    866\u001B[39m \u001B[38;5;28;01mreturn\u001B[39;00m res\n",
      "\u001B[36mFile \u001B[39m\u001B[32m~/PycharmProjects/neo4j/.venv/lib/python3.13/site-packages/neo4j/_sync/io/_bolt5.py:1208\u001B[39m, in \u001B[36mBolt5x7._process_message\u001B[39m\u001B[34m(self, tag, fields)\u001B[39m\n\u001B[32m   1206\u001B[39m \u001B[38;5;28mself\u001B[39m._enrich_error_diagnostic_record(summary_metadata)\n\u001B[32m   1207\u001B[39m \u001B[38;5;28;01mtry\u001B[39;00m:\n\u001B[32m-> \u001B[39m\u001B[32m1208\u001B[39m     \u001B[43mresponse\u001B[49m\u001B[43m.\u001B[49m\u001B[43mon_failure\u001B[49m\u001B[43m(\u001B[49m\u001B[43msummary_metadata\u001B[49m\u001B[43m \u001B[49m\u001B[38;5;129;43;01mor\u001B[39;49;00m\u001B[43m \u001B[49m\u001B[43m{\u001B[49m\u001B[43m}\u001B[49m\u001B[43m)\u001B[49m\n\u001B[32m   1209\u001B[39m \u001B[38;5;28;01mexcept\u001B[39;00m (ServiceUnavailable, DatabaseUnavailable):\n\u001B[32m   1210\u001B[39m     \u001B[38;5;28;01mif\u001B[39;00m \u001B[38;5;28mself\u001B[39m.pool:\n",
      "\u001B[36mFile \u001B[39m\u001B[32m~/PycharmProjects/neo4j/.venv/lib/python3.13/site-packages/neo4j/_sync/io/_common.py:254\u001B[39m, in \u001B[36mResponse.on_failure\u001B[39m\u001B[34m(self, metadata)\u001B[39m\n\u001B[32m    252\u001B[39m handler = \u001B[38;5;28mself\u001B[39m.handlers.get(\u001B[33m\"\u001B[39m\u001B[33mon_summary\u001B[39m\u001B[33m\"\u001B[39m)\n\u001B[32m    253\u001B[39m Util.callback(handler)\n\u001B[32m--> \u001B[39m\u001B[32m254\u001B[39m \u001B[38;5;28;01mraise\u001B[39;00m \u001B[38;5;28mself\u001B[39m._hydrate_error(metadata)\n",
      "\u001B[31mClientError\u001B[39m: {code: Neo.ClientError.Procedure.ProcedureNotFound} {message: There is no procedure with the name `algo.pageRank` registered for this database instance. Please ensure you've spelled the procedure name correctly and that the procedure is properly deployed.}"
     ]
    }
   ],
   "execution_count": 10
  },
  {
   "cell_type": "markdown",
   "metadata": {},
   "source": [
    "Now that we've calculated PageRank for each User node we need to create a new pandas DataFrame for our user nodes by querying Neo4j:"
   ]
  },
  {
   "cell_type": "code",
   "metadata": {
    "ExecuteTime": {
     "end_time": "2025-04-29T19:20:25.417889Z",
     "start_time": "2025-04-29T19:20:25.141409Z"
    }
   },
   "source": [
    "import json\n",
    "import pandas as pd\n",
    "\n",
    "with open('modularity_with_score.json', 'r') as f:\n",
    "    data = json.load(f)\n",
    "valid_names = set(users['screen_name'])\n",
    "\n",
    "df = pd.DataFrame([{\n",
    "    'screen_name': user['screen_name'],\n",
    "    'community': user['community'],\n",
    "    'pagerank': user['score']\n",
    "} for user in data if user['screen_name'] in valid_names])\n",
    "Counter(df['community'])"
   ],
   "outputs": [
    {
     "data": {
      "text/plain": [
       "Counter({0: 2027, 1: 1560, 3: 626, 4: 492, 2: 361, 5: 5})"
      ]
     },
     "execution_count": 26,
     "metadata": {},
     "output_type": "execute_result"
    }
   ],
   "execution_count": 26
  },
  {
   "cell_type": "code",
   "metadata": {
    "scrolled": true,
    "ExecuteTime": {
     "end_time": "2025-04-29T19:36:36.025493Z",
     "start_time": "2025-04-29T19:36:28.999683Z"
    }
   },
   "source": [
    "# render the Graphistry visualization, binding node size to PageRank score\n",
    "viz = graphistry.bind(source=\"u1\", destination=\"u2\", node=\"screen_name\", point_size=\"pagerank\").nodes(df).edges(mentions).encode_point_color('community', categorical_mapping={\n",
    "          0: 'red',\n",
    "          1: 'black',\n",
    "          2: 'yellow',\n",
    "          3: 'green',\n",
    "          4: 'cyan',\n",
    "          5: 'magenta'\n",
    "      }, default_mapping='orange')\n",
    "viz.plot()"
   ],
   "outputs": [
    {
     "data": {
      "text/plain": [
       "<IPython.core.display.HTML object>"
      ],
      "text/html": [
       "\n",
       "            <iframe id=\"ff0a5154-5cee-4093-97db-01c72937c787\" src=\"https://hub.graphistry.com/graph/graph.html?dataset=e3f4c62ab32b42ae943274021f776738&type=arrow&viztoken=c7d6a008-dfa1-4460-a17d-ce53f78135c6&usertag=578d6eaa-pygraphistry-0.36.1&splashAfter=1745955411&info=true\"\n",
       "                    allowfullscreen=\"true\" webkitallowfullscreen=\"true\" mozallowfullscreen=\"true\"\n",
       "                    oallowfullscreen=\"true\" msallowfullscreen=\"true\"\n",
       "                    style=\"width:100%; height:500px; border: 1px solid #DDD; overflow: hidden\"\n",
       "                    \n",
       "            >\n",
       "            </iframe>\n",
       "        \n",
       "            <script>\n",
       "                try {\n",
       "                  $(\"#ff0a5154-5cee-4093-97db-01c72937c787\").bind('mousewheel', function(e) { e.preventDefault(); });\n",
       "                } catch (e) { console.error('exn catching scroll', e); }\n",
       "            </script>\n",
       "        "
      ]
     },
     "execution_count": 29,
     "metadata": {},
     "output_type": "execute_result"
    }
   ],
   "execution_count": 29
  },
  {
   "cell_type": "markdown",
   "metadata": {},
   "source": [
    "Now when we render the Graphistry visualization, node size is proprtional to the node's PageRank score. This results in a different set of nodes that are identified as most important. \n",
    "\n",
    "By binding node size to the results of graph algorithms we are able to draw insight from the data at a glance and further explore the interactive visualization.\n"
   ]
  },
  {
   "cell_type": "code",
   "execution_count": null,
   "metadata": {
    "collapsed": true
   },
   "outputs": [],
   "source": []
  }
 ],
 "metadata": {
  "kernelspec": {
   "display_name": "Python 3",
   "language": "python",
   "name": "python3"
  },
  "language_info": {
   "codemirror_mode": {
    "name": "ipython",
    "version": 3
   },
   "file_extension": ".py",
   "mimetype": "text/x-python",
   "name": "python",
   "nbconvert_exporter": "python",
   "pygments_lexer": "ipython3",
   "version": "3.7.11"
  }
 },
 "nbformat": 4,
 "nbformat_minor": 2
}
